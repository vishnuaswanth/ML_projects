{
  "nbformat": 4,
  "nbformat_minor": 0,
  "metadata": {
    "colab": {
      "provenance": [],
      "include_colab_link": true
    },
    "kernelspec": {
      "name": "python3",
      "display_name": "Python 3"
    },
    "language_info": {
      "name": "python"
    }
  },
  "cells": [
    {
      "cell_type": "markdown",
      "metadata": {
        "id": "view-in-github",
        "colab_type": "text"
      },
      "source": [
        "<a href=\"https://colab.research.google.com/github/vishnuaswanth/ML_projects/blob/main/Final_M3_MP3_NB_Detection_of_Spam_Emails.ipynb\" target=\"_parent\"><img src=\"https://colab.research.google.com/assets/colab-badge.svg\" alt=\"Open In Colab\"/></a>"
      ]
    },
    {
      "cell_type": "markdown",
      "metadata": {
        "id": "powered-thong"
      },
      "source": [
        "# Applied Data Science and Machine Learning\n",
        "## A program by IIT Madras and TalentSprint\n",
        "### Mini Project 03 : Detection of Spam/ham Emails"
      ]
    },
    {
      "cell_type": "markdown",
      "metadata": {
        "id": "1nK0fzdQzk0g"
      },
      "source": [
        "## Learning Objectives\n",
        "\n",
        "At the end of the mini project, you will be able to\n",
        "\n",
        "* understand the application of machine learning in the detection of spam emails.\n",
        "* use a real world dataset.\n",
        "* Implement various machine learning models.\n",
        "* compare between different types of classification methods and their pros and cons."
      ]
    },
    {
      "cell_type": "markdown",
      "metadata": {
        "id": "hungry-accident"
      },
      "source": [
        "**Packages used:**  \n",
        "* `Pandas` for data frames and easy to read csv files  \n",
        "* `Numpy` for array and matrix mathematics functions  \n",
        "* `Matplotlib` and `Seaborn` for visualization\n",
        "*  `sklearn` for the metrics and pre-processing\n",
        "\n"
      ]
    },
    {
      "cell_type": "markdown",
      "source": [
        "### Introduction\n",
        "\n",
        "Machine learning is connected with the field of education related to algorithms which continuously keeps on learning from various examples and then applying them to real-world problems.  Classification is a task of Machine Learning which assigns a label value to a specific class and then can identify a particular type to be of one kind or another. The most basic example can be of the mail spam filtration system where one can classify a mail as either “spam” or “not spam”. You will encounter multiple types of classification challenges and there exist some specific approaches for the type of model that might be used for each challenge."
      ],
      "metadata": {
        "id": "n2pdQIOlBFID"
      }
    },
    {
      "cell_type": "markdown",
      "metadata": {
        "id": "AClW5O_SI7cL"
      },
      "source": [
        "### Dataset Description\n",
        "\n",
        "The collection consists of '0030228easyham.tar.bz2' and '20030228_spam.tar.bz2' taking from https://spamassassin.apache.org/old/publiccorpus/ i.e. _Apache SpamAssassin’s public datasets_. There are 2500 ham and 500 spam emails in the dataset.\n"
      ]
    },
    {
      "cell_type": "code",
      "source": [
        "#@title Download dataset\n",
        "!wget https://cdn.extras.talentsprint.com/ADSMI/Datasets/spam_or_not_spam.zip\n",
        "!unzip \"spam_or_not_spam.zip\""
      ],
      "metadata": {
        "cellView": "form",
        "id": "mQly7fChcHAG",
        "colab": {
          "base_uri": "https://localhost:8080/"
        },
        "outputId": "f338e576-27fb-4d89-87fd-dfa38b3a2c72"
      },
      "execution_count": null,
      "outputs": [
        {
          "output_type": "stream",
          "name": "stdout",
          "text": [
            "--2024-05-04 07:40:19--  https://cdn.extras.talentsprint.com/ADSMI/Datasets/spam_or_not_spam.zip\n",
            "Resolving cdn.extras.talentsprint.com (cdn.extras.talentsprint.com)... 172.105.52.210\n",
            "Connecting to cdn.extras.talentsprint.com (cdn.extras.talentsprint.com)|172.105.52.210|:443... connected.\n",
            "HTTP request sent, awaiting response... 200 OK\n",
            "Length: 1177632 (1.1M) [application/zip]\n",
            "Saving to: ‘spam_or_not_spam.zip’\n",
            "\n",
            "spam_or_not_spam.zi 100%[===================>]   1.12M   933KB/s    in 1.2s    \n",
            "\n",
            "2024-05-04 07:40:21 (933 KB/s) - ‘spam_or_not_spam.zip’ saved [1177632/1177632]\n",
            "\n",
            "Archive:  spam_or_not_spam.zip\n",
            "  inflating: spam_or_not_spam.csv    \n"
          ]
        }
      ]
    },
    {
      "cell_type": "code",
      "source": [
        "# import the libraries used for machine learning\n",
        "import numpy as np\n",
        "import pandas as pd\n",
        "import matplotlib.pyplot as plt\n",
        "\n",
        "\n",
        "%matplotlib notebook\n",
        "%matplotlib inline\n",
        "\n",
        "from sklearn.model_selection import train_test_split\n",
        "from sklearn.feature_extraction.text import CountVectorizer\n",
        "from sklearn.linear_model import LogisticRegression\n",
        "from sklearn.svm import SVC\n",
        "from sklearn.model_selection import KFold\n",
        "from sklearn.naive_bayes import GaussianNB\n",
        "from sklearn.tree import DecisionTreeClassifier\n",
        "from sklearn.model_selection import cross_val_score\n",
        "from sklearn.metrics import classification_report\n",
        "from sklearn.metrics import confusion_matrix\n",
        "\n",
        "from sklearn.metrics import roc_curve\n",
        "\n",
        "#from sklearn.metrics import plot_precision_recall_curve"
      ],
      "metadata": {
        "id": "QTUZ1CEVyCJ7"
      },
      "execution_count": null,
      "outputs": []
    },
    {
      "cell_type": "code",
      "source": [
        "# Print the top 5 data points\n",
        "# YOUR CODE HERE\n",
        "# read the data\n",
        "df = pd.read_csv(\"spam_or_not_spam.csv\")\n",
        "df\n",
        "df.head(5)"
      ],
      "metadata": {
        "id": "kA_1mETXct1Y",
        "colab": {
          "base_uri": "https://localhost:8080/",
          "height": 206
        },
        "outputId": "b2a5335d-856f-47e9-97df-69bcd70b0c3d"
      },
      "execution_count": null,
      "outputs": [
        {
          "output_type": "execute_result",
          "data": {
            "text/plain": [
              "                                               email  label\n",
              "0   date wed NUMBER aug NUMBER NUMBER NUMBER NUMB...      0\n",
              "1  martin a posted tassos papadopoulos the greek ...      0\n",
              "2  man threatens explosion in moscow thursday aug...      0\n",
              "3  klez the virus that won t die already the most...      0\n",
              "4   in adding cream to spaghetti carbonara which ...      0"
            ],
            "text/html": [
              "\n",
              "  <div id=\"df-a2a1dc60-871a-46ef-a956-abf1ba10031d\" class=\"colab-df-container\">\n",
              "    <div>\n",
              "<style scoped>\n",
              "    .dataframe tbody tr th:only-of-type {\n",
              "        vertical-align: middle;\n",
              "    }\n",
              "\n",
              "    .dataframe tbody tr th {\n",
              "        vertical-align: top;\n",
              "    }\n",
              "\n",
              "    .dataframe thead th {\n",
              "        text-align: right;\n",
              "    }\n",
              "</style>\n",
              "<table border=\"1\" class=\"dataframe\">\n",
              "  <thead>\n",
              "    <tr style=\"text-align: right;\">\n",
              "      <th></th>\n",
              "      <th>email</th>\n",
              "      <th>label</th>\n",
              "    </tr>\n",
              "  </thead>\n",
              "  <tbody>\n",
              "    <tr>\n",
              "      <th>0</th>\n",
              "      <td>date wed NUMBER aug NUMBER NUMBER NUMBER NUMB...</td>\n",
              "      <td>0</td>\n",
              "    </tr>\n",
              "    <tr>\n",
              "      <th>1</th>\n",
              "      <td>martin a posted tassos papadopoulos the greek ...</td>\n",
              "      <td>0</td>\n",
              "    </tr>\n",
              "    <tr>\n",
              "      <th>2</th>\n",
              "      <td>man threatens explosion in moscow thursday aug...</td>\n",
              "      <td>0</td>\n",
              "    </tr>\n",
              "    <tr>\n",
              "      <th>3</th>\n",
              "      <td>klez the virus that won t die already the most...</td>\n",
              "      <td>0</td>\n",
              "    </tr>\n",
              "    <tr>\n",
              "      <th>4</th>\n",
              "      <td>in adding cream to spaghetti carbonara which ...</td>\n",
              "      <td>0</td>\n",
              "    </tr>\n",
              "  </tbody>\n",
              "</table>\n",
              "</div>\n",
              "    <div class=\"colab-df-buttons\">\n",
              "\n",
              "  <div class=\"colab-df-container\">\n",
              "    <button class=\"colab-df-convert\" onclick=\"convertToInteractive('df-a2a1dc60-871a-46ef-a956-abf1ba10031d')\"\n",
              "            title=\"Convert this dataframe to an interactive table.\"\n",
              "            style=\"display:none;\">\n",
              "\n",
              "  <svg xmlns=\"http://www.w3.org/2000/svg\" height=\"24px\" viewBox=\"0 -960 960 960\">\n",
              "    <path d=\"M120-120v-720h720v720H120Zm60-500h600v-160H180v160Zm220 220h160v-160H400v160Zm0 220h160v-160H400v160ZM180-400h160v-160H180v160Zm440 0h160v-160H620v160ZM180-180h160v-160H180v160Zm440 0h160v-160H620v160Z\"/>\n",
              "  </svg>\n",
              "    </button>\n",
              "\n",
              "  <style>\n",
              "    .colab-df-container {\n",
              "      display:flex;\n",
              "      gap: 12px;\n",
              "    }\n",
              "\n",
              "    .colab-df-convert {\n",
              "      background-color: #E8F0FE;\n",
              "      border: none;\n",
              "      border-radius: 50%;\n",
              "      cursor: pointer;\n",
              "      display: none;\n",
              "      fill: #1967D2;\n",
              "      height: 32px;\n",
              "      padding: 0 0 0 0;\n",
              "      width: 32px;\n",
              "    }\n",
              "\n",
              "    .colab-df-convert:hover {\n",
              "      background-color: #E2EBFA;\n",
              "      box-shadow: 0px 1px 2px rgba(60, 64, 67, 0.3), 0px 1px 3px 1px rgba(60, 64, 67, 0.15);\n",
              "      fill: #174EA6;\n",
              "    }\n",
              "\n",
              "    .colab-df-buttons div {\n",
              "      margin-bottom: 4px;\n",
              "    }\n",
              "\n",
              "    [theme=dark] .colab-df-convert {\n",
              "      background-color: #3B4455;\n",
              "      fill: #D2E3FC;\n",
              "    }\n",
              "\n",
              "    [theme=dark] .colab-df-convert:hover {\n",
              "      background-color: #434B5C;\n",
              "      box-shadow: 0px 1px 3px 1px rgba(0, 0, 0, 0.15);\n",
              "      filter: drop-shadow(0px 1px 2px rgba(0, 0, 0, 0.3));\n",
              "      fill: #FFFFFF;\n",
              "    }\n",
              "  </style>\n",
              "\n",
              "    <script>\n",
              "      const buttonEl =\n",
              "        document.querySelector('#df-a2a1dc60-871a-46ef-a956-abf1ba10031d button.colab-df-convert');\n",
              "      buttonEl.style.display =\n",
              "        google.colab.kernel.accessAllowed ? 'block' : 'none';\n",
              "\n",
              "      async function convertToInteractive(key) {\n",
              "        const element = document.querySelector('#df-a2a1dc60-871a-46ef-a956-abf1ba10031d');\n",
              "        const dataTable =\n",
              "          await google.colab.kernel.invokeFunction('convertToInteractive',\n",
              "                                                    [key], {});\n",
              "        if (!dataTable) return;\n",
              "\n",
              "        const docLinkHtml = 'Like what you see? Visit the ' +\n",
              "          '<a target=\"_blank\" href=https://colab.research.google.com/notebooks/data_table.ipynb>data table notebook</a>'\n",
              "          + ' to learn more about interactive tables.';\n",
              "        element.innerHTML = '';\n",
              "        dataTable['output_type'] = 'display_data';\n",
              "        await google.colab.output.renderOutput(dataTable, element);\n",
              "        const docLink = document.createElement('div');\n",
              "        docLink.innerHTML = docLinkHtml;\n",
              "        element.appendChild(docLink);\n",
              "      }\n",
              "    </script>\n",
              "  </div>\n",
              "\n",
              "\n",
              "<div id=\"df-232fe2fb-3612-42f3-bcd2-c0a3425db98d\">\n",
              "  <button class=\"colab-df-quickchart\" onclick=\"quickchart('df-232fe2fb-3612-42f3-bcd2-c0a3425db98d')\"\n",
              "            title=\"Suggest charts\"\n",
              "            style=\"display:none;\">\n",
              "\n",
              "<svg xmlns=\"http://www.w3.org/2000/svg\" height=\"24px\"viewBox=\"0 0 24 24\"\n",
              "     width=\"24px\">\n",
              "    <g>\n",
              "        <path d=\"M19 3H5c-1.1 0-2 .9-2 2v14c0 1.1.9 2 2 2h14c1.1 0 2-.9 2-2V5c0-1.1-.9-2-2-2zM9 17H7v-7h2v7zm4 0h-2V7h2v10zm4 0h-2v-4h2v4z\"/>\n",
              "    </g>\n",
              "</svg>\n",
              "  </button>\n",
              "\n",
              "<style>\n",
              "  .colab-df-quickchart {\n",
              "      --bg-color: #E8F0FE;\n",
              "      --fill-color: #1967D2;\n",
              "      --hover-bg-color: #E2EBFA;\n",
              "      --hover-fill-color: #174EA6;\n",
              "      --disabled-fill-color: #AAA;\n",
              "      --disabled-bg-color: #DDD;\n",
              "  }\n",
              "\n",
              "  [theme=dark] .colab-df-quickchart {\n",
              "      --bg-color: #3B4455;\n",
              "      --fill-color: #D2E3FC;\n",
              "      --hover-bg-color: #434B5C;\n",
              "      --hover-fill-color: #FFFFFF;\n",
              "      --disabled-bg-color: #3B4455;\n",
              "      --disabled-fill-color: #666;\n",
              "  }\n",
              "\n",
              "  .colab-df-quickchart {\n",
              "    background-color: var(--bg-color);\n",
              "    border: none;\n",
              "    border-radius: 50%;\n",
              "    cursor: pointer;\n",
              "    display: none;\n",
              "    fill: var(--fill-color);\n",
              "    height: 32px;\n",
              "    padding: 0;\n",
              "    width: 32px;\n",
              "  }\n",
              "\n",
              "  .colab-df-quickchart:hover {\n",
              "    background-color: var(--hover-bg-color);\n",
              "    box-shadow: 0 1px 2px rgba(60, 64, 67, 0.3), 0 1px 3px 1px rgba(60, 64, 67, 0.15);\n",
              "    fill: var(--button-hover-fill-color);\n",
              "  }\n",
              "\n",
              "  .colab-df-quickchart-complete:disabled,\n",
              "  .colab-df-quickchart-complete:disabled:hover {\n",
              "    background-color: var(--disabled-bg-color);\n",
              "    fill: var(--disabled-fill-color);\n",
              "    box-shadow: none;\n",
              "  }\n",
              "\n",
              "  .colab-df-spinner {\n",
              "    border: 2px solid var(--fill-color);\n",
              "    border-color: transparent;\n",
              "    border-bottom-color: var(--fill-color);\n",
              "    animation:\n",
              "      spin 1s steps(1) infinite;\n",
              "  }\n",
              "\n",
              "  @keyframes spin {\n",
              "    0% {\n",
              "      border-color: transparent;\n",
              "      border-bottom-color: var(--fill-color);\n",
              "      border-left-color: var(--fill-color);\n",
              "    }\n",
              "    20% {\n",
              "      border-color: transparent;\n",
              "      border-left-color: var(--fill-color);\n",
              "      border-top-color: var(--fill-color);\n",
              "    }\n",
              "    30% {\n",
              "      border-color: transparent;\n",
              "      border-left-color: var(--fill-color);\n",
              "      border-top-color: var(--fill-color);\n",
              "      border-right-color: var(--fill-color);\n",
              "    }\n",
              "    40% {\n",
              "      border-color: transparent;\n",
              "      border-right-color: var(--fill-color);\n",
              "      border-top-color: var(--fill-color);\n",
              "    }\n",
              "    60% {\n",
              "      border-color: transparent;\n",
              "      border-right-color: var(--fill-color);\n",
              "    }\n",
              "    80% {\n",
              "      border-color: transparent;\n",
              "      border-right-color: var(--fill-color);\n",
              "      border-bottom-color: var(--fill-color);\n",
              "    }\n",
              "    90% {\n",
              "      border-color: transparent;\n",
              "      border-bottom-color: var(--fill-color);\n",
              "    }\n",
              "  }\n",
              "</style>\n",
              "\n",
              "  <script>\n",
              "    async function quickchart(key) {\n",
              "      const quickchartButtonEl =\n",
              "        document.querySelector('#' + key + ' button');\n",
              "      quickchartButtonEl.disabled = true;  // To prevent multiple clicks.\n",
              "      quickchartButtonEl.classList.add('colab-df-spinner');\n",
              "      try {\n",
              "        const charts = await google.colab.kernel.invokeFunction(\n",
              "            'suggestCharts', [key], {});\n",
              "      } catch (error) {\n",
              "        console.error('Error during call to suggestCharts:', error);\n",
              "      }\n",
              "      quickchartButtonEl.classList.remove('colab-df-spinner');\n",
              "      quickchartButtonEl.classList.add('colab-df-quickchart-complete');\n",
              "    }\n",
              "    (() => {\n",
              "      let quickchartButtonEl =\n",
              "        document.querySelector('#df-232fe2fb-3612-42f3-bcd2-c0a3425db98d button');\n",
              "      quickchartButtonEl.style.display =\n",
              "        google.colab.kernel.accessAllowed ? 'block' : 'none';\n",
              "    })();\n",
              "  </script>\n",
              "</div>\n",
              "\n",
              "    </div>\n",
              "  </div>\n"
            ],
            "application/vnd.google.colaboratory.intrinsic+json": {
              "type": "dataframe",
              "variable_name": "df",
              "summary": "{\n  \"name\": \"df\",\n  \"rows\": 3000,\n  \"fields\": [\n    {\n      \"column\": \"email\",\n      \"properties\": {\n        \"dtype\": \"string\",\n        \"num_unique_values\": 2872,\n        \"samples\": [\n          \"i ve seen articles on this type of stuff passing through various forums for several years i ve always found archaeology interesting for no particular reason here is a recent article from u s news that i actually still have in the dank recesses of my virtual repository james rogers jamesr URL URL defrosting the past ancient human and animal remains are melting out of glaciers a bounty of a warming world by alex markels as he hiked near colorado s continental divide in the summer of NUMBER ed knapp noticed a strange shape jutting from a melting ice field at NUMBER NUMBER feet it looked like a bison skull the building contractor and amateur archaeologist recalls i thought that s strange bison don t live this high up knapp brought the skull to the denver museum of nature and science where scientists last month announced that it was indeed from a bison one that died about NUMBER years ago this was an extraordinary discovery says russ graham the museum s chief curator adding that it could alter notions of the mountain environment centuries ago there s probably a lot more like it yet to be found and not just bison colorado isn t the only place where glaciers and snowfields are melting decades of unusual warmth in regions from peru to alaska a trend some think is linked to emissions from cars and industry have shrunk or thawed many of the world s NUMBER NUMBER glaciers as the ice recedes a treasure trove of human and animal artifacts is emerging extraordinarily well preserved after centuries in the deep freeze the fabrics wood bone and dna rich tissue found on the mucky fringes of the ice are revising scientists understanding of our predecessors health habits and technology and the prey they pursued it s mind boggling how many different fields are being advanced through studying these remains says johan reinhard a high altitude archaeologist and explorer in residence at the national geographic society rare spectacular finds like the frozen mummies he discovered in the andes of peru in the NUMBERs and the legendary NUMBER NUMBER year old ice man found at the edge of a receding glacier in the alps in NUMBER have offered time capsules of cultural and biological information now as the ice continues to retreat it is yielding not just occasional treasures but long records of humans and animals in the high mountains vanishing act the trick is finding such specimens before mother nature and looters take them first once uncovered frozen remains can deteriorate within hours or be gnawed by animals moreover they re often so well preserved when they emerge that people who come upon them don t even realize they re ancient that was the case when three men hunting sheep near a high glacier in british columbia canada three years ago saw what they thought was a dead animal it looked a little like sealskin buried in the ice recalls warren ward a teacher from nearby nelson but when i looked closer i could see leather fringe from a coat and finger bones figuring they had found the remains of another hunter or perhaps a fur trapper the men stowed a flint knife and other artifacts in a zip loc bag and delivered them to local officials archaeologists later exhumed the fallen hunter s body along with a woven hat fur clothing and what seemed to be a medicine bag carbon dating revealed that the hunter lived about NUMBER years ago dubbed kwaday dan ts inchi or long ago person found by people of the champagne and aishihik first nations who may be his direct descendants he is perhaps the best preserved human from the period ever found in north america other findings from melting ice in the neighboring yukon region could explain what that long ago person was doing in the mountains in the first place before this there was no archaeological record of people living here says greg hare a yukon government archaeologist now we see that this area was very much part of people s seasonal activities like ward s discovery the search began by chance when kristin benedek caught a whiff of what smelled like a barnyard as she and her husband gerry kuzyk hunted sheep at NUMBER NUMBER feet in the mountains of the south yukon they followed the scent to a melting patch of ice covered in caribou dung it was really odd because i knew there hadn t been caribou in the area for at least NUMBER years recalls kuzyk then a wildlife biologist with the yukon government caribou cake returning a week later he found what looked like a pencil with string wrapped around it it turned out to be a NUMBER NUMBER year old atlatl or spear thrower further investigation of the ice patch and scores of others around the region revealed icy layer cakes filled with caribou remains and human detritus chronicling NUMBER NUMBER years of changing hunting practices scientists now believe ancient caribou and other animals flocked to the ice each summer to cool down and escape swarming mosquitoes and flies hunters followed the game they returned for centuries and discarded some equipment in the ice we ve got people hunting with throwing darts up until NUMBER NUMBER years ago says hare who now oversees the research project then we see the first appearance of the bow and arrow about NUMBER NUMBER years ago and by NUMBER NUMBER years ago there s no more throwing darts now scientists are trying to make the search less a matter of luck they are developing sophisticated computer models that combine data on where glaciers are melting fastest and where humans and animals are known to have migrated to pinpoint the best places to search in alaska s wrangell and st elias mountain ranges the united states most glaciated terrain and in the andes johan reinhard thinks the fast thawing european alps could also deliver more findings perhaps as exquisite as the ice man global warming is providing us high altitude archaeologists with some fantastic opportunities right now we re probably about the only ones happy about it \",\n          \" hyperlink legal teen xxx hardcoreNUMBER free boy was gauge surprised when joey s friend conveniently showed up as things were getting hot she always dreamed of sucking two cocks while she played with herself during study hall but fantasy is different than reality i wonder if she ever gave a thought to where those dicks would end up after they were done with her mouth find out for NUMBER free at legal teen girls we just added gauge s three way you have to see it we have tons of other sweet young teens getting it in ways they never imagined possible for free hyperlink click here for your NUMBER free lifetime membership disclaimer we are strongly against sending unsolicited emails to those who do not wish to receive our special mailings you have opted in to one or more of our affiliate sites requesting to be notified of any special offers we may run from time to time we also have attained the services of an independent NUMBERrd party to overlook list management and removal services this is not unsolicited email if you do not wish to receive further mailings please hyperlink click here to be removed from the list please accept our apologies if you have been sent this email in error we honor all removal requests \",\n          \"if anyone here is running null beta then you may like these gnome theme packages they are enhanced and repackages from my previous theme packs this time to conform to the way pre release rhNUMBER handles themes for gtkNUMBER and gtkNUMBER redhat has a preferences themes app but themes only show up there that have both gtkNUMBER NUMBER gnomeNUMBER themes and gtkNUMBER NUMBER gtkNUMBER aka gnomeNUMBER themes available then rh will apply the theme to both gtk versions so the user does not really notice that different gtk toolkit versions are being used since they should look the same this gtkNUMBER engines compat rpm has gtkNUMBER ported themes for those themes that are included in the rh package gtk engines themes pack for gtkNUMBER the gtkNUMBER NUMBER themez pack mostly repackages my previous theme rpms in a way that the null btea like and supposedly the next rhNUMBER when released forward original mail from angles puglisi angles aminvestments com date NUMBER NUMBER NUMBER NUMBER NUMBER NUMBER am subject some null eyecandy packages \"\n        ],\n        \"semantic_type\": \"\",\n        \"description\": \"\"\n      }\n    },\n    {\n      \"column\": \"label\",\n      \"properties\": {\n        \"dtype\": \"number\",\n        \"std\": 0,\n        \"min\": 0,\n        \"max\": 1,\n        \"num_unique_values\": 2,\n        \"samples\": [\n          1,\n          0\n        ],\n        \"semantic_type\": \"\",\n        \"description\": \"\"\n      }\n    }\n  ]\n}"
            }
          },
          "metadata": {},
          "execution_count": 4
        }
      ]
    },
    {
      "cell_type": "code",
      "source": [],
      "metadata": {
        "id": "8AeWskCcGt_N"
      },
      "execution_count": null,
      "outputs": []
    },
    {
      "cell_type": "markdown",
      "source": [
        "### **Exercise 1**: Perform the following\n",
        "\n",
        "- Exploratory Data Analysis (2 points)\n",
        "- Preprocessing (1 point)"
      ],
      "metadata": {
        "id": "fVIdTRu1XS0q"
      }
    },
    {
      "cell_type": "code",
      "source": [
        "# Print the number of spam and not spam emails.\n",
        "# YOUR CODE HERE\n",
        "df.isna().any()\n",
        "df.isna().sum()\n",
        "df['email'].nunique()\n",
        "df['email'].drop_duplicates(inplace = True)\n",
        "df.shape\n",
        "ham = len(df[df.label == 0])\n",
        "print(\"Number of non spam emails: {:}\".format((ham)))\n",
        "spam = len(df[df.label == 1])\n",
        "print(\"Number of spam emails: {:}\".format((spam)))"
      ],
      "metadata": {
        "id": "Q8M_srmJdEwQ",
        "colab": {
          "base_uri": "https://localhost:8080/"
        },
        "outputId": "b650b16d-0119-47bc-ad47-c65624b67bbd"
      },
      "execution_count": null,
      "outputs": [
        {
          "output_type": "stream",
          "name": "stdout",
          "text": [
            "Number of non spam emails: 2500\n",
            "Number of spam emails: 500\n"
          ]
        }
      ]
    },
    {
      "cell_type": "code",
      "source": [
        "#Plot distribution of emails with the email-length\n",
        "# YOUR CODE HERE\n",
        "plt.figure(figsize=(12,6))\n",
        "plt.pie(df['label'].value_counts(), labels=['ham','spam'], autopct='%0.2f')\n",
        "plt.show()\n"
      ],
      "metadata": {
        "id": "sShwyG5wdPcA",
        "colab": {
          "base_uri": "https://localhost:8080/",
          "height": 499
        },
        "outputId": "07477ad2-1f7a-4968-d326-1d075388bc02"
      },
      "execution_count": null,
      "outputs": [
        {
          "output_type": "display_data",
          "data": {
            "text/plain": [
              "<Figure size 1200x600 with 1 Axes>"
            ],
            "image/png": "[encoded data removed]"
          },
          "metadata": {}
        }
      ]
    },
    {
      "cell_type": "markdown",
      "source": [
        "### **Exercise 2**:\n",
        "* Implement Count Vectorizer on Train and Test Data (1 Point)"
      ],
      "metadata": {
        "id": "qRkuKaXSeAm0"
      }
    },
    {
      "cell_type": "code",
      "source": [
        "# Perform the Train test splitting\n",
        "# YOUR CODE HERE\n",
        "from sklearn.feature_extraction.text import TfidfVectorizer\n",
        "tfidf = TfidfVectorizer(max_features=17000)\n",
        "X_train, X_test, y_train, y_test = train_test_split(df['email'], df['label'], test_size=0.2, random_state=1)\n",
        "\n"
      ],
      "metadata": {
        "id": "McjiazDreHTh"
      },
      "execution_count": null,
      "outputs": []
    },
    {
      "cell_type": "code",
      "source": [
        "# Count vectorizer for Train and Test emails\n",
        "# YOUR CODE HERE\n",
        "#count_vector = CountVectorizer()\n",
        "#train_data = count_vector.fit_transform(X_train.values.astype('str')).toarray()\n",
        "#test_data = count_vector.transform(X_test).toarray()\n",
        "\n",
        "count_vector = CountVectorizer()\n",
        "train_data = count_vector.fit_transform(X_train.values.astype('str')).toarray()\n",
        "test_data = count_vector.transform(X_test.values.astype('str')).toarray()"
      ],
      "metadata": {
        "id": "S345xO5SemX6"
      },
      "execution_count": null,
      "outputs": []
    },
    {
      "cell_type": "markdown",
      "source": [
        "### **Exercise 3** (4 Points)\n",
        "\n",
        "Train the model using the 4 ML models:\n",
        "\n",
        "- Logistic Regression\n",
        "- SVM\n",
        "- Naive Bayes\n",
        "-Decision Tree"
      ],
      "metadata": {
        "id": "eaGVoJFsXu1o"
      }
    },
    {
      "cell_type": "markdown",
      "source": [
        "**Logistic Regression**\n",
        "\n",
        "Logistic regression, despite its name, is a linear model for classification rather than regression. Logistic regression is also known in the literature as logit regression, maximum-entropy classification (MaxEnt) or the log-linear classifier. In this model, the probabilities describing the possible outcomes of a single trial are modeled using a logistic function.\n",
        "\n",
        "For notational ease, we assume that the target takes values in the set {0,1} for data point . Once fitted, the predict_proba method of LogisticRegression predicts the probability of the positive class P(y_i=1|X_i) as 1/(1+exp(-X_i*w-b)).\n"
      ],
      "metadata": {
        "id": "uDukbylSEseO"
      }
    },
    {
      "cell_type": "markdown",
      "source": [
        "**SVM**\n",
        "\n",
        "Support vector machines (SVMs) are a set of supervised learning methods used for classification, regression and outliers detection.\n",
        "SVM algorithm helps to find the best line or decision boundary; this best boundary or region is called as a hyperplane. SVM algorithm finds the closest point of the lines from both the classes. These points are called support vectors. The distance between the vectors and the hyperplane is called as margin. And the goal of SVM is to maximize this margin. The hyperplane with maximum margin is called the optimal hyperplane.\n",
        "![image.png](data:image/png;base64,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)\n"
      ],
      "metadata": {
        "id": "8Nx0H5wMGIn5"
      }
    },
    {
      "cell_type": "markdown",
      "source": [
        "**Decision Tree**\n",
        "\n",
        "Decision Tree is the most powerful and popular tool for classification and prediction. A Decision tree is a flowchart-like tree structure, where each internal node denotes a test on an attribute, each branch represents an outcome of the test, and each leaf node (terminal node) holds a class label.\n",
        "\n",
        "Construction of Decision Tree: A tree can be “learned” by splitting the source set into subsets based on an attribute value test. This process is repeated on each derived subset in a recursive manner called recursive partitioning. The recursion is completed when the subset at a node all has the same value of the target variable, or when splitting no longer adds value to the predictions. The construction of a decision tree classifier does not require any domain knowledge or parameter setting, and therefore is appropriate for exploratory knowledge discovery. Decision trees can handle high-dimensional data. In general decision tree classifier has good accuracy. Decision tree induction is a typical inductive approach to learn knowledge on classification."
      ],
      "metadata": {
        "id": "mDFn7O4ffvsD"
      }
    },
    {
      "cell_type": "code",
      "source": [
        "# Step 1 -Fit all the four models\n",
        "accuracies = {}\n",
        "from sklearn.linear_model import LogisticRegression\n",
        "lr = LogisticRegression(class_weight='balanced',solver='lbfgs', max_iter=10000)\n",
        "lr.fit(train_data,y_train)\n",
        "\n",
        "from sklearn.svm import SVC\n",
        "svm = SVC(random_state = 1)\n",
        "svm.fit(train_data,y_train)\n",
        "\n",
        "\n",
        "from sklearn.naive_bayes import GaussianNB\n",
        "nb = GaussianNB()\n",
        "nb.fit(train_data,y_train)\n",
        "\n",
        "from sklearn.tree import DecisionTreeClassifier\n",
        "dtc = DecisionTreeClassifier()\n",
        "dtc.fit(train_data,y_train)\n"
      ],
      "metadata": {
        "id": "VafWZZuKf8HL",
        "colab": {
          "base_uri": "https://localhost:8080/",
          "height": 74
        },
        "outputId": "99057c24-76d1-4f3c-b6a8-e18f8f54bead"
      },
      "execution_count": null,
      "outputs": [
        {
          "output_type": "execute_result",
          "data": {
            "text/plain": [
              "DecisionTreeClassifier()"
            ],
            "text/html": [
              "<style>#sk-container-id-2 {color: black;background-color: white;}#sk-container-id-2 pre{padding: 0;}#sk-container-id-2 div.sk-toggleable {background-color: white;}#sk-container-id-2 label.sk-toggleable__label {cursor: pointer;display: block;width: 100%;margin-bottom: 0;padding: 0.3em;box-sizing: border-box;text-align: center;}#sk-container-id-2 label.sk-toggleable__label-arrow:before {content: \"▸\";float: left;margin-right: 0.25em;color: #696969;}#sk-container-id-2 label.sk-toggleable__label-arrow:hover:before {color: black;}#sk-container-id-2 div.sk-estimator:hover label.sk-toggleable__label-arrow:before {color: black;}#sk-container-id-2 div.sk-toggleable__content {max-height: 0;max-width: 0;overflow: hidden;text-align: left;background-color: #f0f8ff;}#sk-container-id-2 div.sk-toggleable__content pre {margin: 0.2em;color: black;border-radius: 0.25em;background-color: #f0f8ff;}#sk-container-id-2 input.sk-toggleable__control:checked~div.sk-toggleable__content {max-height: 200px;max-width: 100%;overflow: auto;}#sk-container-id-2 input.sk-toggleable__control:checked~label.sk-toggleable__label-arrow:before {content: \"▾\";}#sk-container-id-2 div.sk-estimator input.sk-toggleable__control:checked~label.sk-toggleable__label {background-color: #d4ebff;}#sk-container-id-2 div.sk-label input.sk-toggleable__control:checked~label.sk-toggleable__label {background-color: #d4ebff;}#sk-container-id-2 input.sk-hidden--visually {border: 0;clip: rect(1px 1px 1px 1px);clip: rect(1px, 1px, 1px, 1px);height: 1px;margin: -1px;overflow: hidden;padding: 0;position: absolute;width: 1px;}#sk-container-id-2 div.sk-estimator {font-family: monospace;background-color: #f0f8ff;border: 1px dotted black;border-radius: 0.25em;box-sizing: border-box;margin-bottom: 0.5em;}#sk-container-id-2 div.sk-estimator:hover {background-color: #d4ebff;}#sk-container-id-2 div.sk-parallel-item::after {content: \"\";width: 100%;border-bottom: 1px solid gray;flex-grow: 1;}#sk-container-id-2 div.sk-label:hover label.sk-toggleable__label {background-color: #d4ebff;}#sk-container-id-2 div.sk-serial::before {content: \"\";position: absolute;border-left: 1px solid gray;box-sizing: border-box;top: 0;bottom: 0;left: 50%;z-index: 0;}#sk-container-id-2 div.sk-serial {display: flex;flex-direction: column;align-items: center;background-color: white;padding-right: 0.2em;padding-left: 0.2em;position: relative;}#sk-container-id-2 div.sk-item {position: relative;z-index: 1;}#sk-container-id-2 div.sk-parallel {display: flex;align-items: stretch;justify-content: center;background-color: white;position: relative;}#sk-container-id-2 div.sk-item::before, #sk-container-id-2 div.sk-parallel-item::before {content: \"\";position: absolute;border-left: 1px solid gray;box-sizing: border-box;top: 0;bottom: 0;left: 50%;z-index: -1;}#sk-container-id-2 div.sk-parallel-item {display: flex;flex-direction: column;z-index: 1;position: relative;background-color: white;}#sk-container-id-2 div.sk-parallel-item:first-child::after {align-self: flex-end;width: 50%;}#sk-container-id-2 div.sk-parallel-item:last-child::after {align-self: flex-start;width: 50%;}#sk-container-id-2 div.sk-parallel-item:only-child::after {width: 0;}#sk-container-id-2 div.sk-dashed-wrapped {border: 1px dashed gray;margin: 0 0.4em 0.5em 0.4em;box-sizing: border-box;padding-bottom: 0.4em;background-color: white;}#sk-container-id-2 div.sk-label label {font-family: monospace;font-weight: bold;display: inline-block;line-height: 1.2em;}#sk-container-id-2 div.sk-label-container {text-align: center;}#sk-container-id-2 div.sk-container {/* jupyter's `normalize.less` sets `[hidden] { display: none; }` but bootstrap.min.css set `[hidden] { display: none !important; }` so we also need the `!important` here to be able to override the default hidden behavior on the sphinx rendered scikit-learn.org. See: https://github.com/scikit-learn/scikit-learn/issues/21755 */display: inline-block !important;position: relative;}#sk-container-id-2 div.sk-text-repr-fallback {display: none;}</style><div id=\"sk-container-id-2\" class=\"sk-top-container\"><div class=\"sk-text-repr-fallback\"><pre>DecisionTreeClassifier()</pre><b>In a Jupyter environment, please rerun this cell to show the HTML representation or trust the notebook. <br />On GitHub, the HTML representation is unable to render, please try loading this page with nbviewer.org.</b></div><div class=\"sk-container\" hidden><div class=\"sk-item\"><div class=\"sk-estimator sk-toggleable\"><input class=\"sk-toggleable__control sk-hidden--visually\" id=\"sk-estimator-id-2\" type=\"checkbox\" checked><label for=\"sk-estimator-id-2\" class=\"sk-toggleable__label sk-toggleable__label-arrow\">DecisionTreeClassifier</label><div class=\"sk-toggleable__content\"><pre>DecisionTreeClassifier()</pre></div></div></div></div></div>"
            ]
          },
          "metadata": {},
          "execution_count": 19
        }
      ]
    },
    {
      "cell_type": "code",
      "source": [
        "# Step 2 -Train your models\n",
        "#YOUR CODE HERE\n",
        "from sklearn.metrics import accuracy_score,confusion_matrix,precision_score,recall_score,f1_score\n",
        "Lrc_pred = lr.predict(test_data)\n",
        "Lrc_accuracy = accuracy_score(y_test,Lrc_pred)\n",
        "Lrc_precision = precision_score(y_test,Lrc_pred)\n",
        "print(\"For Linear Regression\")\n",
        "print(\"Accuracy - \",Lrc_accuracy)\n",
        "print(\"Precision - \",Lrc_precision)\n",
        "print(\"F1 Score\", f1_score(y_test, Lrc_pred, average=\"macro\"))\n",
        "print(\"Recall\", recall_score(y_test, Lrc_pred, average=\"macro\"),'\\n')\n",
        "\n",
        "Svm_pred = svm.predict(test_data)\n",
        "Svm_accuracy = accuracy_score(y_test,Svm_pred)\n",
        "Svm_precision = precision_score(y_test,Svm_pred)\n",
        "print(\"For SVC\")\n",
        "print(\"Accuracy - \",Svm_accuracy)\n",
        "print(\"Precision - \",Svm_precision)\n",
        "print(\"F1 Score\", f1_score(y_test, Svm_pred, average=\"macro\"))\n",
        "print(\"Recall\", recall_score(y_test, Svm_pred, average=\"macro\"),'\\n')\n",
        "\n",
        "Nvb_pred = nb.predict(test_data)\n",
        "Nvb_accuracy = accuracy_score(y_test,Nvb_pred)\n",
        "Nvb_precision = precision_score(y_test,Nvb_pred)\n",
        "print(\"For Navie bayes\")\n",
        "print(\"Accuracy - \",Nvb_accuracy)\n",
        "print(\"Precision - \",Nvb_precision)\n",
        "print(\"F1 Score\", f1_score(y_test, Nvb_pred, average=\"macro\"))\n",
        "print(\"Recall\", recall_score(y_test, Nvb_pred, average=\"macro\"),'\\n')\n",
        "\n",
        "Dt_pred = dtc.predict(test_data)\n",
        "Dt_accuracy = accuracy_score(y_test,Dt_pred)\n",
        "Dt_precision = precision_score(y_test,Dt_pred)\n",
        "print(\"For Decision tree\")\n",
        "print(\"Accuracy - \",Dt_accuracy)\n",
        "print(\"Precision - \",Dt_precision)\n",
        "print(\"F1 Score\", f1_score(y_test, Dt_pred, average=\"macro\"))\n",
        "print(\"Recall\", recall_score(y_test, Dt_pred, average=\"macro\"))\n",
        "\n",
        "\n"
      ],
      "metadata": {
        "id": "BuH8g7zigG95",
        "colab": {
          "base_uri": "https://localhost:8080/"
        },
        "outputId": "d3e72111-c605-4b5d-c049-e48147fd5672"
      },
      "execution_count": null,
      "outputs": [
        {
          "output_type": "stream",
          "name": "stdout",
          "text": [
            "For Linear Regression\n",
            "Accuracy -  0.9866666666666667\n",
            "Precision -  0.9801980198019802\n",
            "F1 Score 0.9765583794026294\n",
            "Recall 0.9694083694083694 \n",
            "\n",
            "For SVC\n",
            "Accuracy -  0.9383333333333334\n",
            "Precision -  1.0\n",
            "F1 Score 0.8750499518773464\n",
            "Recall 0.8238095238095238 \n",
            "\n",
            "For Navie bayes\n",
            "Accuracy -  0.9183333333333333\n",
            "Precision -  0.7692307692307693\n",
            "F1 Score 0.8580526170945206\n",
            "Recall 0.8567099567099568 \n",
            "\n",
            "For Decision tree\n",
            "Accuracy -  0.965\n",
            "Precision -  0.9117647058823529\n",
            "F1 Score 0.9387013441919524\n",
            "Recall 0.9337662337662338\n"
          ]
        }
      ]
    },
    {
      "cell_type": "markdown",
      "source": [
        "### **Exercise 4**:\n",
        "* Obtain the Confusion Matrices for all models (2 Point)"
      ],
      "metadata": {
        "id": "BXH2uH3ogbAY"
      }
    },
    {
      "cell_type": "code",
      "source": [
        "#YOUR CODE HERE\n",
        "from sklearn.metrics import ConfusionMatrixDisplay\n",
        "print(\"\\n\", \"Confusion Matrix Linear Regression\")\n",
        "ConfusionMatrixDisplay.from_predictions(y_test, Lrc_pred)\n",
        "plt.show()\n",
        "print(\"\\n\", \"Confusion Matrix SVC\")\n",
        "ConfusionMatrixDisplay.from_predictions(y_test, Svm_pred)\n",
        "plt.show()\n",
        "print(\"\\n\", \"Confusion Matrix Navie Bayes\")\n",
        "ConfusionMatrixDisplay.from_predictions(y_test, Nvb_pred)\n",
        "plt.show()\n",
        "print(\"\\n\", \"Confusion Matrix Decision Tree\")\n",
        "ConfusionMatrixDisplay.from_predictions(y_test, Dt_pred)\n",
        "plt.show()\n"
      ],
      "metadata": {
        "id": "3XV1Q5t1gSEt",
        "colab": {
          "base_uri": "https://localhost:8080/",
          "height": 1000
        },
        "outputId": "8db113dd-7ea7-4d8e-8694-c2b58be6e859"
      },
      "execution_count": null,
      "outputs": [
        {
          "output_type": "stream",
          "name": "stdout",
          "text": [
            "\n",
            " Confusion Matrix Linear Regression\n"
          ]
        },
        {
          "output_type": "display_data",
          "data": {
            "text/plain": [
              "<Figure size 640x480 with 2 Axes>"
            ],
            "image/png": "[encoded data removed]"
          },
          "metadata": {}
        },
        {
          "output_type": "stream",
          "name": "stdout",
          "text": [
            "\n",
            " Confusion Matrix SVC\n"
          ]
        },
        {
          "output_type": "display_data",
          "data": {
            "text/plain": [
              "<Figure size 640x480 with 2 Axes>"
            ],
            "image/png": "[encoded data removed]"
          },
          "metadata": {}
        },
        {
          "output_type": "stream",
          "name": "stdout",
          "text": [
            "\n",
            " Confusion Matrix Navie Bayes\n"
          ]
        },
        {
          "output_type": "display_data",
          "data": {
            "text/plain": [
              "<Figure size 640x480 with 2 Axes>"
            ],
            "image/png": "[encoded data removed]"
          },
          "metadata": {}
        },
        {
          "output_type": "stream",
          "name": "stdout",
          "text": [
            "\n",
            " Confusion Matrix Decision Tree\n"
          ]
        },
        {
          "output_type": "display_data",
          "data": {
            "text/plain": [
              "<Figure size 640x480 with 2 Axes>"
            ],
            "image/png": "[encoded data removed]"
          },
          "metadata": {}
        }
      ]
    }
  ]
}